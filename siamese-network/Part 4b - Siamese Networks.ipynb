{
 "cells": [
  {
   "cell_type": "markdown",
   "metadata": {},
   "source": [
    "# Finding Similar Songs on Spotify - Part 2: Siamese Networks\n",
    "\n",
    "In the first part of this tutorial I have introduced the traditional distance based approach to similarity estimations. The main idea is that features are extracted from the audio content. These features are numeric descriptions of semantically relevant information. An example for a high-level feature is the number of beats per minute which is a description for the tempo of a song. Music feature-sets are more abstract and describe the spectral or rhythmical distribution of energy. These are not single but vectors of numbers. Thus, a song is semantically described by this vector and if the set of extracted features spans over various music characteristics such as rhythm, timbre, harmonics, complexity, etc. then calculating the similarity of the vector's numbers is considered to be an approximation of music similarity. Thus, the lower the numerical distance between two vectors, the higher their acoustic similarity. For this reason these approaches are known as *Distance based* methods. They mainly depend on the selected sets of features and on the similarity metric chosen to compare their values.\n",
    "\n",
    "In the second part of this tutorial we are now focussing on an approach, where the feature representation, as well as the similarity function is learned from the underlying dataset.\n",
    "\n",
    "\n",
    "## Tutorial Overview\n",
    "\n",
    "1. Loading data\n",
    "2. Preprocess data\n",
    "3. Define Model\n",
    "4. Fit Model\n",
    "5. Evaluate Model\n",
    "\n"
   ]
  },
  {
   "cell_type": "markdown",
   "metadata": {},
   "source": [
    "## Requiremnts\n",
    "\n",
    "The requirements are the same as for the first part of the tutorials. Please follow the instructions of part one if you have trouble running this tutorial."
   ]
  },
  {
   "cell_type": "code",
   "execution_count": 1,
   "metadata": {},
   "outputs": [],
   "source": [
    "import os\n",
    "# os.environ[\"CUDA_VISIBLE_DEVICES\"] = \"1\"\n",
    "\n",
    "import tensorflow as tf\n",
    "from sklearn.externals import joblib\n",
    "\n",
    "%load_ext autoreload\n",
    "\n",
    "%autoreload 2"
   ]
  },
  {
   "cell_type": "code",
   "execution_count": 2,
   "metadata": {
    "ExecuteTime": {
     "end_time": "2017-08-24T10:20:32.488000Z",
     "start_time": "2017-08-24T10:20:32.483000Z"
    }
   },
   "outputs": [
    {
     "name": "stderr",
     "output_type": "stream",
     "text": [
      "Using TensorFlow backend.\n"
     ]
    }
   ],
   "source": [
    "# visualization\n",
    "%matplotlib inline\n",
    "import matplotlib\n",
    "import matplotlib.pyplot as plt\n",
    "matplotlib.style.use('ggplot')\n",
    "from IPython.display import IFrame\n",
    "\n",
    "# numeric and scientific processing\n",
    "import numpy as np\n",
    "import pandas as pd\n",
    "from scipy.interpolate import RectBivariateSpline\n",
    "\n",
    "# misc\n",
    "import os\n",
    "import progressbar\n",
    "\n",
    "# spotify API\n",
    "import spotipy\n",
    "import spotipy.util as util\n",
    "\n",
    "# local caching\n",
    "from joblib import Memory\n",
    "\n",
    "# functions from Tutorial Part 1\n",
    "import tutorial_functions as tut_func"
   ]
  },
  {
   "cell_type": "markdown",
   "metadata": {},
   "source": [
    "# Loading Data\n",
    "\n",
    "We will use the same data that we downloaded from Spotify in Part 1 of the Tutorial. Because we used the joblib library, we will not have to wait that long, because the data is already cached on our harddrive."
   ]
  },
  {
   "cell_type": "markdown",
   "metadata": {},
   "source": [
    "Update the following two variables according the credentials you received from Spotify"
   ]
  },
  {
   "cell_type": "code",
   "execution_count": 3,
   "metadata": {},
   "outputs": [],
   "source": [
    "SPOTIFY_USER = \"vaquerocarlos\"\n",
    "\n",
    "os.environ[\"SPOTIPY_CLIENT_ID\"]     = \"af1202d0ce504dd2b0f4113d79fed1e2\"\n",
    "os.environ[\"SPOTIPY_CLIENT_SECRET\"] = \"89a2c5902f06425494f6ea513fbd5522\""
   ]
  },
  {
   "cell_type": "markdown",
   "metadata": {},
   "source": [
    "The same playlists as used in Part 1:"
   ]
  },
  {
   "cell_type": "code",
   "execution_count": 4,
   "metadata": {},
   "outputs": [],
   "source": [
    "playlists = [\n",
    "    \n",
    "     {\"name\": \"clubbeats\",    \"uri\": \"spotify:user:spotify:playlist:37i9dQZF1DXbX3zSzB4MO0\"},\n",
    "     {\"name\": \"softpop\",      \"uri\": \"spotify:user:spotify:playlist:37i9dQZF1DWTwnEm1IYyoj\"},\n",
    "     {\"name\": \"electropop\",   \"uri\": \"spotify:user:spotify:playlist:37i9dQZF1DX4uPi2roRUwU\"},\n",
    "     {\"name\": \"rockclassics\", \"uri\": \"spotify:user:spotify:playlist:37i9dQZF1DWXRqgorJj26U\"},\n",
    "     {\"name\": \"rockhymns\",    \"uri\": \"spotify:user:spotify:playlist:37i9dQZF1DX4vth7idTQch\"},\n",
    "     {\"name\": \"soft_rock\",    \"uri\": \"spotify:user:spotify:playlist:37i9dQZF1DX6xOPeSOGone\"},\n",
    "     {\"name\": \"metalcore\",    \"uri\": \"spotify:user:spotify:playlist:37i9dQZF1DWXIcbzpLauPS\"}, \n",
    "     {\"name\": \"metal\",        \"uri\": \"spotify:user:spotify:playlist:37i9dQZF1DWWOaP4H0w5b0\"},\n",
    "     {\"name\": \"classic_metal\",\"uri\": \"spotify:user:spotify:playlist:37i9dQZF1DX2LTcinqsO68\"},\n",
    "     {\"name\": \"grunge\",       \"uri\": \"spotify:user:spotify:playlist:37i9dQZF1DX11ghcIxjcjE\"},\n",
    "     {\"name\": \"hiphop\",       \"uri\": \"spotify:user:spotify:playlist:37i9dQZF1DWVdgXTbYm2r0\"},\n",
    "     {\"name\": \"poppunk\",      \"uri\": \"spotify:user:spotify:playlist:37i9dQZF1DXa9wYJr1oMFq\"},\n",
    "     {\"name\": \"classic\",      \"uri\": \"spotify:user:spotify:playlist:37i9dQZF1DXcN1fAVSf7CR\"}\n",
    "    \n",
    "]"
   ]
  },
  {
   "cell_type": "markdown",
   "metadata": {},
   "source": [
    "Connect to the Spotify API"
   ]
  },
  {
   "cell_type": "code",
   "execution_count": 5,
   "metadata": {
    "ExecuteTime": {
     "end_time": "2017-08-24T10:20:33.260000Z",
     "start_time": "2017-08-24T10:20:33.256000Z"
    }
   },
   "outputs": [
    {
     "name": "stderr",
     "output_type": "stream",
     "text": [
      "warning:couldn't refresh token: code:400 reason:Bad Request\n"
     ]
    },
    {
     "name": "stdout",
     "output_type": "stream",
     "text": [
      "\n",
      "\n",
      "            User authentication requires interaction with your\n",
      "            web browser. Once you enter your credentials and\n",
      "            give authorization, you will be redirected to\n",
      "            a url.  Paste that url you were directed to to\n",
      "            complete the authorization.\n",
      "\n",
      "        \n",
      "Opened https://accounts.spotify.com/authorize?client_id=af1202d0ce504dd2b0f4113d79fed1e2&response_type=code&redirect_uri=http%3A%2F%2Flocalhost%3A8888%2Fcallback&scope=playlist-modify-public in your browser\n",
      "\n",
      "\n",
      "Enter the URL you were redirected to: http://localhost:8888/callback?code=AQCKQrZc7NJGhkhyEAnM0JHLyt2L9ife-GEwIFU9Nl_SiTTYkCWxJcIevgbXM3QANhj2icf1Kwm8ziUSXeDwuEfrzYkPT2tqvzp2WpgN59gvq7xrTiqtfTwB9q-fwxHr5eNbk3ddKcwjhgP6an1D26ABvn2MAcypNTGY_v1RLW-BLNxMP9bflJhhe13foom0ReBEdavRdnuzoc7wAS_Ba2LYUkQXb6eauCHWRg\n",
      "\n",
      "\n"
     ]
    }
   ],
   "source": [
    "token = util.prompt_for_user_token(SPOTIFY_USER, \n",
    "                                   \"playlist-modify-public\", \n",
    "                                   redirect_uri=\"http://localhost:8888/callback\")\n",
    "\n",
    "sp = spotipy.Spotify(auth=token)"
   ]
  },
  {
   "cell_type": "markdown",
   "metadata": {},
   "source": [
    "Define the local chache directory. This should be the same as in Part 1 of the tutorial."
   ]
  },
  {
   "cell_type": "code",
   "execution_count": 6,
   "metadata": {
    "ExecuteTime": {
     "end_time": "2017-08-24T10:20:32.875000Z",
     "start_time": "2017-08-24T10:20:32.870000Z"
    }
   },
   "outputs": [
    {
     "name": "stderr",
     "output_type": "stream",
     "text": [
      "/anaconda3/envs/siamese/lib/python3.6/site-packages/ipykernel_launcher.py:1: DeprecationWarning: The 'cachedir' parameter has been deprecated in version 0.12 and will be removed in version 0.14.\n",
      "You provided \"cachedir='/Users/yuan/Documents/xciting/mlprague2018_tutorial-master'\", use \"location=None\" instead.\n",
      "  \"\"\"Entry point for launching an IPython kernel.\n"
     ]
    }
   ],
   "source": [
    "memory = Memory(cachedir='/Users/yuan/Documents/xciting/mlprague2018_tutorial-master', verbose=0)"
   ]
  },
  {
   "cell_type": "markdown",
   "metadata": {},
   "source": [
    "Unfortunately I was not able to move this function to the tutorial_functions.py file, due to the @memory annotation. (If you know a way how to solve this, please create a Github-issue with your solution)."
   ]
  },
  {
   "cell_type": "code",
   "execution_count": 7,
   "metadata": {},
   "outputs": [],
   "source": [
    "@memory.cache\n",
    "def get_spotify_data(track_id):\n",
    "    \n",
    "    # meta-data\n",
    "    track_metadata      = sp.track(track_id)\n",
    "    album_metadata      = sp.album(track_metadata[\"album\"][\"id\"])\n",
    "    artist_metadata     = sp.artist(track_metadata[\"artists\"][0][\"id\"])\n",
    "    \n",
    "    # feature-data\n",
    "    sequential_features = sp.audio_analysis(track_id)\n",
    "    trackbased_features = sp.audio_features([track_id])\n",
    "    \n",
    "    return track_metadata, album_metadata, artist_metadata, sequential_features, trackbased_features"
   ]
  },
  {
   "cell_type": "markdown",
   "metadata": {},
   "source": [
    "Start loading the Spotify Data"
   ]
  },
  {
   "cell_type": "code",
   "execution_count": 3,
   "metadata": {},
   "outputs": [],
   "source": [
    "# Get Playlist meta-data\n",
    "# playlists = tut_func.get_playlist_metadata(sp, playlists)\n",
    "\n",
    "# Get track-ids of all playlist entries\n",
    "# playlists = tut_func.get_track_ids(sp, playlists)\n",
    "\n",
    "# num_tracks_total = np.sum([playlist[\"num_tracks\"] for playlist in playlists])\n",
    "\n",
    "# Fetch data and features from Spotify\n",
    "# pbar = progressbar.ProgressBar(max_value=num_tracks_total)\n",
    "# pbar.start()\n",
    "\n",
    "try:\n",
    "    raw_track_data = joblib.load('raw_spotify_data.pkl')\n",
    "except:\n",
    "    raw_track_data      = []\n",
    "    processed_track_ids = []\n",
    "\n",
    "    for playlist in playlists:\n",
    "\n",
    "        for track_id in playlist[\"track_ids\"]:\n",
    "\n",
    "            try:\n",
    "                # avoid duplicates in the data-set\n",
    "                if track_id not in processed_track_ids:\n",
    "                    print('retrieving track: %s'%(track_id))\n",
    "                    # retrieve data from Spotify\n",
    "                    spotify_data = get_spotify_data(track_id)\n",
    "\n",
    "                    raw_track_data.append([playlist[\"name\"], spotify_data])\n",
    "                    processed_track_ids.append(track_id)\n",
    "\n",
    "            except Exception as e:\n",
    "                print(e)\n",
    "\n",
    "#         pbar.update(len(raw_track_data))"
   ]
  },
  {
   "cell_type": "code",
   "execution_count": 39,
   "metadata": {},
   "outputs": [
    {
     "data": {
      "text/plain": [
       "['raw_spotify_data.pkl']"
      ]
     },
     "execution_count": 39,
     "metadata": {},
     "output_type": "execute_result"
    }
   ],
   "source": [
    "# from sklearn.externals import joblib\n",
    "# joblib.dump(raw_track_data, 'raw_spotify_data.pkl')"
   ]
  },
  {
   "cell_type": "markdown",
   "metadata": {},
   "source": [
    "### Aggregate feature-data\n",
    "\n",
    "Currently we only have a list of raw data-objects retrieved from the Spotify API. We need to transform this information to a more structured format."
   ]
  },
  {
   "cell_type": "code",
   "execution_count": 11,
   "metadata": {
    "scrolled": true
   },
   "outputs": [],
   "source": [
    "# Aggregate Meta-data\n",
    "metadata = tut_func.aggregate_metadata(raw_track_data)\n",
    "\n",
    "# Aggregate Feature-data\n",
    "feature_data = tut_func.aggregate_featuredata(raw_track_data, metadata)"
   ]
  },
  {
   "cell_type": "code",
   "execution_count": 12,
   "metadata": {},
   "outputs": [],
   "source": [
    "## check None tracks in feature_data and remove them from feature_data and metadata\n",
    "remove_track = []\n",
    "for ix, f in enumerate(feature_data):\n",
    "    if f is None:\n",
    "        remove_track.append(ix)\n",
    "\n",
    "feature_data_new = np.delete(feature_data, remove_track)\n",
    "metadata_new = metadata.drop(metadata.index[remove_track])"
   ]
  },
  {
   "cell_type": "code",
   "execution_count": 13,
   "metadata": {},
   "outputs": [],
   "source": [
    "## Convert 1D array to 2D array\n",
    "feature_data_new = list(feature_data_new)\n",
    "feature_data_new = np.array(feature_data_new)"
   ]
  },
  {
   "cell_type": "code",
   "execution_count": 14,
   "metadata": {},
   "outputs": [],
   "source": [
    "## Copy feature_data and metadata back\n",
    "feature_data = feature_data_new.copy()\n",
    "metadata = metadata_new.copy()"
   ]
  },
  {
   "cell_type": "code",
   "execution_count": 15,
   "metadata": {},
   "outputs": [],
   "source": [
    "metadata = metadata.reset_index()"
   ]
  },
  {
   "cell_type": "code",
   "execution_count": 16,
   "metadata": {},
   "outputs": [],
   "source": [
    "# standardize sequential_features\n",
    "feature_data -= feature_data.mean(axis=0)\n",
    "feature_data /= feature_data.std(axis=0)"
   ]
  },
  {
   "cell_type": "markdown",
   "metadata": {},
   "source": [
    "# Siamese Networks\n",
    "\n",
    "A Siamese neural network is a neural network architecture where two inputs are fed into the same stack of network layers. This is where the name comes from. The shared layers are \"similar\" to Siamese Twins. By feeding two inputs to the shared layers, two representations are generated which can be used for comparison. To train the network according a certain task, it requires labelled data. To learn a simlarity function, these labels should indicate if the two input are similar or dissimilar.\n",
    "\n",
    "This is exactly the approach initially described by Hadsell-et-al.'06 (http://yann.lecun.com/exdb/publis/pdf/hadsell-chopra-lecun-06.pdf). The authors create pairs of simlar and dissimilar images. These are fed into a Siamese NEtwork stack. Finally, the model calculates the eucledian distance between the two generated representations. A contrastive loss is used, to optimize the learned simlarity.\n",
    "\n",
    "To calculate the similarity between a seed image and the rest of the collection, the model is applied to predict the distance between this seed image and every other. The result is a list of distances which has to be sorted descendingly.\n",
    "\n",
    "The following code example follows this approach:"
   ]
  },
  {
   "cell_type": "markdown",
   "metadata": {},
   "source": [
    "**Keras**\n",
    "\n",
    "We use the high-level deep learning API Keras: https://keras.io/"
   ]
  },
  {
   "cell_type": "code",
   "execution_count": 5,
   "metadata": {},
   "outputs": [],
   "source": [
    "from keras.models           import Model\n",
    "from keras.layers           import Input, Lambda, Dense, Bidirectional\n",
    "from keras.layers.recurrent import LSTM\n",
    "from keras.layers.merge     import concatenate\n",
    "from keras.optimizers       import Nadam\n",
    "from keras import backend as K"
   ]
  },
  {
   "cell_type": "markdown",
   "metadata": {},
   "source": [
    "First we define a distance measure to compare the two representations. We will be using the well known Eucledian distance:"
   ]
  },
  {
   "cell_type": "code",
   "execution_count": 6,
   "metadata": {},
   "outputs": [],
   "source": [
    "def euclidean_distance(vects):\n",
    "    x, y = vects\n",
    "    return K.sqrt(K.maximum(K.sum(K.square(x - y), axis=1, keepdims=True), K.epsilon()))"
   ]
  },
  {
   "cell_type": "markdown",
   "metadata": {},
   "source": [
    "### The Siamese Network Architecture\n",
    "\n",
    "Now we define the Siamese Network Architecture. It consists of two fully connected layers. These layers are shared among the \"Siamese twins\". The network takes two inputs. One goes to the left twin, the other to the right one. The Eucledian distance of the output of each twin is calculated which is the final output of the model."
   ]
  },
  {
   "cell_type": "code",
   "execution_count": 7,
   "metadata": {},
   "outputs": [],
   "source": [
    "def create_siamese_network(input_dim):\n",
    "\n",
    "    # input layers\n",
    "    input_left  = Input(shape=input_dim)\n",
    "    input_right = Input(shape=input_dim)\n",
    "\n",
    "    # shared fully connected layers\n",
    "    shared_fc_1 = Dense(100, activation=\"selu\")\n",
    "    shared_fc_2 = Dense(100, activation=\"selu\")    \n",
    "    \n",
    "    # siamese layers\n",
    "    left_twin  = shared_fc_1(shared_fc_2(input_left))\n",
    "    right_twin = shared_fc_1(shared_fc_2(input_right))\n",
    "\n",
    "    # calc difference\n",
    "    distance = Lambda(euclidean_distance,\n",
    "                      output_shape=lambda x: x[0])([left_twin, right_twin])\n",
    "\n",
    "    return Model([input_left, input_right], distance)"
   ]
  },
  {
   "cell_type": "markdown",
   "metadata": {},
   "source": [
    "**Contrastive Loss**\n",
    "\n",
    "The contrastive loss is based on the Euclidean distance and measures the cost of data pairs. The objective of the contrastive loss is to minimize the distance between a similar pair and to separate any two dissimilar data with a distance margin"
   ]
  },
  {
   "cell_type": "code",
   "execution_count": 8,
   "metadata": {},
   "outputs": [],
   "source": [
    "def contrastive_loss(y_true, y_pred):\n",
    "    margin = 1\n",
    "    return K.mean(y_true * K.square(y_pred) + (1 - y_true) * K.square(K.maximum(margin - y_pred, 0)))"
   ]
  },
  {
   "cell_type": "markdown",
   "metadata": {},
   "source": [
    "### Create Data-Pairs\n",
    "\n",
    "Now we have to prepare and partition the input data. Because it is a pair-wise comparison approach, we have to create pairs of input instances. Especially, we will create sequences of genuine or similar pairs followed by impostor or dissimilar pairs."
   ]
  },
  {
   "cell_type": "code",
   "execution_count": 17,
   "metadata": {},
   "outputs": [],
   "source": [
    "def create_pairs(feature_data, metadata, num_pairs_per_track):\n",
    "    \n",
    "    data_pairs = []\n",
    "    labels     = []\n",
    "    \n",
    "    for row_id, q_track in metadata.sample(frac=1).iterrows():\n",
    "        \n",
    "        for _ in range(num_pairs_per_track):\n",
    "            \n",
    "            # search similar and dissimilar examples\n",
    "            pos_example = metadata[metadata.playlist == q_track.playlist].sample(1)\n",
    "            neg_example = metadata[metadata.playlist != q_track.playlist].sample(1)\n",
    "\n",
    "            # create feature pairs\n",
    "#             import pdb; pdb.set_trace()\n",
    "            # genuine pair\n",
    "            data_pairs.append([feature_data[[row_id]][0], feature_data[[pos_example.index]][0]])\n",
    "            labels.append(1)\n",
    "\n",
    "            # impostor pair\n",
    "            data_pairs.append([feature_data[[row_id]][0], feature_data[[neg_example.index]][0]])\n",
    "            labels.append(0)\n",
    "\n",
    "    return np.array(data_pairs), np.array(labels)"
   ]
  },
  {
   "cell_type": "markdown",
   "metadata": {},
   "source": [
    "Exectue the function to prepare the input data"
   ]
  },
  {
   "cell_type": "code",
   "execution_count": 18,
   "metadata": {
    "scrolled": true
   },
   "outputs": [
    {
     "data": {
      "text/plain": [
       "(22700, 2, 69)"
      ]
     },
     "execution_count": 18,
     "metadata": {},
     "output_type": "execute_result"
    }
   ],
   "source": [
    "# create pairs\n",
    "data_pairs, labels = create_pairs(feature_data, metadata, 10)\n",
    "\n",
    "# check - how many instances have we created?\n",
    "data_pairs.shape"
   ]
  },
  {
   "cell_type": "code",
   "execution_count": 19,
   "metadata": {},
   "outputs": [
    {
     "data": {
      "text/plain": [
       "['siamese_data_pairs_labels.pkl']"
      ]
     },
     "execution_count": 19,
     "metadata": {},
     "output_type": "execute_result"
    }
   ],
   "source": [
    "# save the data pairs\n",
    "# joblib.dump(data_pairs, 'siamese_data_pairs.pkl')\n",
    "# joblib.dump(labels, 'siamese_data_pairs_labels.pkl')"
   ]
  },
  {
   "cell_type": "code",
   "execution_count": 4,
   "metadata": {},
   "outputs": [],
   "source": [
    "# load the saved data pairs\n",
    "data_pairs = joblib.load('siamese_data_pairs.pkl')\n",
    "lables = joblib.load('siamese_data_pairs_labels.pkl')"
   ]
  },
  {
   "cell_type": "markdown",
   "metadata": {},
   "source": [
    "Prepare the Siamese Neural Network"
   ]
  },
  {
   "cell_type": "code",
   "execution_count": 9,
   "metadata": {},
   "outputs": [],
   "source": [
    "# define the model\n",
    "model_orig = create_siamese_network(data_pairs[:,0].shape[1:])\n",
    "\n",
    "# define the optimizer\n",
    "opt = Nadam(lr=0.001)\n",
    "\n",
    "# compile the model\n",
    "model_orig.compile(loss      = contrastive_loss, \n",
    "                   optimizer = opt)"
   ]
  },
  {
   "cell_type": "markdown",
   "metadata": {},
   "source": [
    "Train the network"
   ]
  },
  {
   "cell_type": "code",
   "execution_count": 20,
   "metadata": {
    "scrolled": false
   },
   "outputs": [
    {
     "data": {
      "image/png": "[encoded data removed]",
      "text/plain": [
       "<Figure size 432x288 with 1 Axes>"
      ]
     },
     "metadata": {},
     "output_type": "display_data"
    }
   ],
   "source": [
    "model_orig.fit([data_pairs[:, 0], data_pairs[:, 1]], \n",
    "                labels, \n",
    "                batch_size       = 24, \n",
    "                verbose          = 0, \n",
    "                epochs           = 25, \n",
    "                callbacks        = [tut_func.PlotLosses()], \n",
    "                validation_split = 0.1);"
   ]
  },
  {
   "cell_type": "markdown",
   "metadata": {},
   "source": [
    "# Evaluate\n",
    "\n",
    "Now that we have a trained model, we want to evaluate its performance. We will first play around with some examples, listen to the results and judge by our subjective interpretation before we persue a general evaluation."
   ]
  },
  {
   "cell_type": "markdown",
   "metadata": {},
   "source": [
    "### Evaluate by Example\n",
    "\n",
    "The following function calculated the distances between a given query track and all other tracks of the collection. The result is a list of distances where the smallest distance coresponds with the most similar track. The list is sorted descendingly and the top-ten similar tracks are presented below the information of the query track. The Spotify playlist we created at the beginning will also be updated with the query results. Thus, you can listen to it in your Spotify client."
   ]
  },
  {
   "cell_type": "code",
   "execution_count": 21,
   "metadata": {},
   "outputs": [],
   "source": [
    "def similar(model, query_idx):\n",
    "    \n",
    "    print(metadata.iloc[query_idx])\n",
    "    \n",
    "    # calclulate predicted distances between query track and all others\n",
    "    res = [model.predict([feature_data[[query_idx]], feature_data[[i]]]) for i in range(feature_data.shape[0])]\n",
    "\n",
    "    # reshape\n",
    "    res = np.array(res)\n",
    "    res = res.reshape(res.shape[0])\n",
    "\n",
    "    # get sorted indexes in ascending order (smallest distance to query track first)\n",
    "    si = np.argsort(res)\n",
    "    \n",
    "    # output filter\n",
    "    display_cols = [\"artist_name\", \"title\", \"album_name\", \"year\",\"playlist\"]\n",
    "    \n",
    "    return_metadata = metadata.loc[si, display_cols][:10].copy()\n",
    "    return_metadata['distance'] = res[si][:10]\n",
    "    \n",
    "#     return metadata.loc[si, display_cols][:10], res[si][:10]\n",
    "    return return_metadata"
   ]
  },
  {
   "cell_type": "markdown",
   "metadata": {},
   "source": [
    "Now let's check the results for some individual tracks by supplying the index to our dataset:"
   ]
  },
  {
   "cell_type": "code",
   "execution_count": 23,
   "metadata": {},
   "outputs": [
    {
     "name": "stdout",
     "output_type": "stream",
     "text": [
      "index                                                       1039\n",
      "track_id                                  2ehyvj9nR6CAbbt3tDlUXJ\n",
      "artist_name                                Johann Sebastian Bach\n",
      "title          Cello Suite No.1 In G Major, BWV 1007: 3. Cour...\n",
      "album_name                     J.S. Bach: Suiten für Violoncello\n",
      "label                                      Universal Music Group\n",
      "duration                                                  143480\n",
      "popularity                                                    35\n",
      "year                                                        2017\n",
      "genres         [baroque, classical, early music, german jazz,...\n",
      "playlist                                                 classic\n",
      "Name: 1036, dtype: object\n"
     ]
    }
   ],
   "source": [
    "metadata_retrieved = similar(model_orig, 1036)"
   ]
  },
  {
   "cell_type": "code",
   "execution_count": 24,
   "metadata": {},
   "outputs": [
    {
     "data": {
      "text/html": [
       "<div>\n",
       "<style scoped>\n",
       "    .dataframe tbody tr th:only-of-type {\n",
       "        vertical-align: middle;\n",
       "    }\n",
       "\n",
       "    .dataframe tbody tr th {\n",
       "        vertical-align: top;\n",
       "    }\n",
       "\n",
       "    .dataframe thead th {\n",
       "        text-align: right;\n",
       "    }\n",
       "</style>\n",
       "<table border=\"1\" class=\"dataframe\">\n",
       "  <thead>\n",
       "    <tr style=\"text-align: right;\">\n",
       "      <th></th>\n",
       "      <th>artist_name</th>\n",
       "      <th>title</th>\n",
       "      <th>album_name</th>\n",
       "      <th>year</th>\n",
       "      <th>playlist</th>\n",
       "      <th>distance</th>\n",
       "    </tr>\n",
       "  </thead>\n",
       "  <tbody>\n",
       "    <tr>\n",
       "      <th>1036</th>\n",
       "      <td>Johann Sebastian Bach</td>\n",
       "      <td>Cello Suite No.1 In G Major, BWV 1007: 3. Cour...</td>\n",
       "      <td>J.S. Bach: Suiten für Violoncello</td>\n",
       "      <td>2017</td>\n",
       "      <td>classic</td>\n",
       "      <td>0.000316</td>\n",
       "    </tr>\n",
       "    <tr>\n",
       "      <th>1105</th>\n",
       "      <td>Federico Moreno Torroba</td>\n",
       "      <td>Homenaje a la seguidilla: III. Allegretto - An...</td>\n",
       "      <td>Moreno Torroba: Guitar Concertos, Vol. 2</td>\n",
       "      <td>2017</td>\n",
       "      <td>classic</td>\n",
       "      <td>0.072824</td>\n",
       "    </tr>\n",
       "    <tr>\n",
       "      <th>1088</th>\n",
       "      <td>Johann Sebastian Bach</td>\n",
       "      <td>Bach, JS: Harpsichord Concerto No. 5 in F Mino...</td>\n",
       "      <td>Dynastie - Bach Family Concertos</td>\n",
       "      <td>2017</td>\n",
       "      <td>classic</td>\n",
       "      <td>0.113980</td>\n",
       "    </tr>\n",
       "    <tr>\n",
       "      <th>1037</th>\n",
       "      <td>Jean Sibelius</td>\n",
       "      <td>Sonatina No. 1, Op. 67: III. Allegro moderato</td>\n",
       "      <td>Sibelius</td>\n",
       "      <td>2017</td>\n",
       "      <td>classic</td>\n",
       "      <td>0.115260</td>\n",
       "    </tr>\n",
       "    <tr>\n",
       "      <th>1106</th>\n",
       "      <td>Ludwig van Beethoven</td>\n",
       "      <td>Violin Sonata No. 9 in A Major, Op. 47, ‘Kreut...</td>\n",
       "      <td>Beethoven: Violin Sonatas No. 6 &amp; 9 'Kreutzer'</td>\n",
       "      <td>2017</td>\n",
       "      <td>classic</td>\n",
       "      <td>0.119760</td>\n",
       "    </tr>\n",
       "    <tr>\n",
       "      <th>1081</th>\n",
       "      <td>Gabriel Fauré</td>\n",
       "      <td>Cello Sonata No. 1 in D Minor, Op. 109: II. An...</td>\n",
       "      <td>The Cello in Wartime</td>\n",
       "      <td>2017</td>\n",
       "      <td>classic</td>\n",
       "      <td>0.121675</td>\n",
       "    </tr>\n",
       "    <tr>\n",
       "      <th>1113</th>\n",
       "      <td>Franz Schubert</td>\n",
       "      <td>Fantasie in F Minor, D. 940, Op. 103: I. Alleg...</td>\n",
       "      <td>Schubert: Fantasie in F Minor and Other Piano ...</td>\n",
       "      <td>2017</td>\n",
       "      <td>classic</td>\n",
       "      <td>0.122623</td>\n",
       "    </tr>\n",
       "    <tr>\n",
       "      <th>1091</th>\n",
       "      <td>Isaac Albéniz</td>\n",
       "      <td>Cantos de España, Op. 232: 2. Asturias - Leyenda</td>\n",
       "      <td>Heritages</td>\n",
       "      <td>2017</td>\n",
       "      <td>classic</td>\n",
       "      <td>0.125714</td>\n",
       "    </tr>\n",
       "    <tr>\n",
       "      <th>1064</th>\n",
       "      <td>Steve Reich</td>\n",
       "      <td>Electric Counterpoint: III. —</td>\n",
       "      <td>Beauty In Simplicity</td>\n",
       "      <td>2017</td>\n",
       "      <td>classic</td>\n",
       "      <td>0.136340</td>\n",
       "    </tr>\n",
       "    <tr>\n",
       "      <th>1080</th>\n",
       "      <td>John Adams</td>\n",
       "      <td>Violin Concerto: II. Chaconne (Body Through Wh...</td>\n",
       "      <td>Adams &amp; Korngold: Violin Concertos</td>\n",
       "      <td>2017</td>\n",
       "      <td>classic</td>\n",
       "      <td>0.146371</td>\n",
       "    </tr>\n",
       "  </tbody>\n",
       "</table>\n",
       "</div>"
      ],
      "text/plain": [
       "                  artist_name  \\\n",
       "1036    Johann Sebastian Bach   \n",
       "1105  Federico Moreno Torroba   \n",
       "1088    Johann Sebastian Bach   \n",
       "1037            Jean Sibelius   \n",
       "1106     Ludwig van Beethoven   \n",
       "1081            Gabriel Fauré   \n",
       "1113           Franz Schubert   \n",
       "1091            Isaac Albéniz   \n",
       "1064              Steve Reich   \n",
       "1080               John Adams   \n",
       "\n",
       "                                                  title  \\\n",
       "1036  Cello Suite No.1 In G Major, BWV 1007: 3. Cour...   \n",
       "1105  Homenaje a la seguidilla: III. Allegretto - An...   \n",
       "1088  Bach, JS: Harpsichord Concerto No. 5 in F Mino...   \n",
       "1037      Sonatina No. 1, Op. 67: III. Allegro moderato   \n",
       "1106  Violin Sonata No. 9 in A Major, Op. 47, ‘Kreut...   \n",
       "1081  Cello Sonata No. 1 in D Minor, Op. 109: II. An...   \n",
       "1113  Fantasie in F Minor, D. 940, Op. 103: I. Alleg...   \n",
       "1091   Cantos de España, Op. 232: 2. Asturias - Leyenda   \n",
       "1064                      Electric Counterpoint: III. —   \n",
       "1080  Violin Concerto: II. Chaconne (Body Through Wh...   \n",
       "\n",
       "                                             album_name  year playlist  \\\n",
       "1036                  J.S. Bach: Suiten für Violoncello  2017  classic   \n",
       "1105           Moreno Torroba: Guitar Concertos, Vol. 2  2017  classic   \n",
       "1088                   Dynastie - Bach Family Concertos  2017  classic   \n",
       "1037                                           Sibelius  2017  classic   \n",
       "1106     Beethoven: Violin Sonatas No. 6 & 9 'Kreutzer'  2017  classic   \n",
       "1081                               The Cello in Wartime  2017  classic   \n",
       "1113  Schubert: Fantasie in F Minor and Other Piano ...  2017  classic   \n",
       "1091                                          Heritages  2017  classic   \n",
       "1064                               Beauty In Simplicity  2017  classic   \n",
       "1080                 Adams & Korngold: Violin Concertos  2017  classic   \n",
       "\n",
       "      distance  \n",
       "1036  0.000316  \n",
       "1105  0.072824  \n",
       "1088  0.113980  \n",
       "1037  0.115260  \n",
       "1106  0.119760  \n",
       "1081  0.121675  \n",
       "1113  0.122623  \n",
       "1091  0.125714  \n",
       "1064  0.136340  \n",
       "1080  0.146371  "
      ]
     },
     "execution_count": 24,
     "metadata": {},
     "output_type": "execute_result"
    }
   ],
   "source": [
    "metadata_retrieved"
   ]
  },
  {
   "cell_type": "markdown",
   "metadata": {},
   "source": [
    "### General Evaluation\n",
    "\n",
    "So far we have only tested our similarity retrieval algorithms on a few single examples. To evaluate, if the presented approaches perform differently, we perform a full evaluation. To estimate the performance we measure precision and recall of our algorithms. These are standard information retrieval measures of relevance. In the context of this tutorial **precision** measures how many tracks of a given resultlist belong to the same playlist as the query song (relative to the length of the resultlist). **Recall** measures how many tracks of the query song's playlist are contained in the resultlist (relative to the length of the playlist)."
   ]
  },
  {
   "cell_type": "code",
   "execution_count": 20,
   "metadata": {},
   "outputs": [],
   "source": [
    "def evaluate(similarity_function, cut_off):\n",
    "\n",
    "    all_precisions = []\n",
    "    all_recall     = []\n",
    "\n",
    "    for idx in metadata.index.values:\n",
    "\n",
    "        dist           = similarity_function(feature_data, feature_data[[idx]])\n",
    "        dist           = np.array(dist).reshape(len(dist))\n",
    "        similar_tracks = metadata.loc[np.argsort(dist)[:cut_off]]\n",
    "        same_label     = similar_tracks[\"playlist\"] == metadata.loc[idx, \"playlist\"]\n",
    "        precision      = same_label.sum() / float(cut_off)\n",
    "        all_precisions.append(precision)\n",
    "\n",
    "        recall = float(same_label.sum()) / metadata[metadata.playlist == metadata.loc[idx, \"playlist\"]].shape[0]\n",
    "        all_recall.append(recall)\n",
    "\n",
    "    all_precisions = np.array(all_precisions)\n",
    "    all_recall     = np.array(recall)\n",
    "\n",
    "    print(\"Precision\", all_precisions.mean())\n",
    "    print(\"Recall:\",   all_recall.mean())"
   ]
  },
  {
   "cell_type": "markdown",
   "metadata": {},
   "source": [
    "Run the evauation for the trained Siamese Network:"
   ]
  },
  {
   "cell_type": "code",
   "execution_count": null,
   "metadata": {},
   "outputs": [],
   "source": [
    "evaluate(lambda x,y: [model_orig.predict([x[[i]], y]) for i in range(feature_data.shape[0])], 20)"
   ]
  },
  {
   "cell_type": "markdown",
   "metadata": {},
   "source": [
    "### Discussion of Results\n",
    "\n",
    "More than 90% precision is quite an exciting number, but several flaws of the experimental design have to be considered. The model is evaluated according its ability rank tracks higher which belong to the same playlist of the query track. This does not imply music similarity in general. The set of playlists used in this tutorial contains some very broad lists which span over several music genres. And even songs of the same genre may sound completely different.\n",
    "\n",
    "The single exploratory examples show, that, althoug from the same playlist, many ranked results do not really fit."
   ]
  },
  {
   "cell_type": "markdown",
   "metadata": {},
   "source": [
    "# Improve Performance through prior Knowledge\n",
    "\n",
    "The original approach only uses genuine and impostor pairs and does not consider any further prior knowledge. In that sense if two tracks belong to the same playlist, they are considered similar, if not, than they are not. But, because we have chosen genre-playlists, there are genres that are more similar than others. This is of course highly subjective and depends on the listening behaviour and experience of a listener.\n",
    "\n",
    "The following list represents my own interpretation of genre similarities:"
   ]
  },
  {
   "cell_type": "code",
   "execution_count": 22,
   "metadata": {},
   "outputs": [],
   "source": [
    "sim = [[[\"clubbeats\",     \"electropop\"],    0.8],\n",
    "       [[\"clubbeats\",     \"softpop\"],       0.4],\n",
    "       [[\"electropop\",    \"hiphop\"],        0.4],\n",
    "       [[\"softpop\",       \"soft_rock\"],     0.2],\n",
    "       [[\"softpop\",       \"electropop\"],    0.4],\n",
    "       [[\"softpop\",       \"hiphop\"],        0.1],\n",
    "       [[\"rockclassics\",  \"rockhymns\"],     0.7],\n",
    "       [[\"soft_rock\",     \"rockclassics\"],  0.3],\n",
    "       [[\"soft_rock\",     \"rockhymns\"],     0.3],\n",
    "       [[\"metalcore\",     \"metal\"],         0.7],\n",
    "       [[\"metalcore\",     \"classic_metal\"], 0.6],\n",
    "       [[\"metal\",         \"classic_metal\"], 0.8],\n",
    "       [[\"classic_metal\", \"grunge\"],        0.5],\n",
    "       [[\"metal\",         \"grunge\"],        0.5],\n",
    "       [[\"rockhymns\",     \"grunge\"],        0.2],\n",
    "       [[\"poppunk\",       \"metal\"],         0.6],\n",
    "       [[\"poppunk\",       \"classic_metal\"], 0.4],\n",
    "       [[\"poppunk\",       \"rockhymns\"],     0.5],\n",
    "       [[\"poppunk\",       \"rockclassics\"],  0.4]]"
   ]
  },
  {
   "cell_type": "markdown",
   "metadata": {},
   "source": [
    "The following code creates a symmetric lookup-table from the list above:"
   ]
  },
  {
   "cell_type": "code",
   "execution_count": 23,
   "metadata": {},
   "outputs": [
    {
     "data": {
      "text/html": [
       "<div>\n",
       "<style scoped>\n",
       "    .dataframe tbody tr th:only-of-type {\n",
       "        vertical-align: middle;\n",
       "    }\n",
       "\n",
       "    .dataframe tbody tr th {\n",
       "        vertical-align: top;\n",
       "    }\n",
       "\n",
       "    .dataframe thead th {\n",
       "        text-align: right;\n",
       "    }\n",
       "</style>\n",
       "<table border=\"1\" class=\"dataframe\">\n",
       "  <thead>\n",
       "    <tr style=\"text-align: right;\">\n",
       "      <th></th>\n",
       "      <th>clubbeats</th>\n",
       "      <th>softpop</th>\n",
       "      <th>electropop</th>\n",
       "      <th>rockclassics</th>\n",
       "      <th>rockhymns</th>\n",
       "      <th>soft_rock</th>\n",
       "      <th>metalcore</th>\n",
       "      <th>metal</th>\n",
       "      <th>classic_metal</th>\n",
       "      <th>grunge</th>\n",
       "      <th>hiphop</th>\n",
       "      <th>poppunk</th>\n",
       "      <th>classic</th>\n",
       "    </tr>\n",
       "  </thead>\n",
       "  <tbody>\n",
       "    <tr>\n",
       "      <th>clubbeats</th>\n",
       "      <td>1.0</td>\n",
       "      <td>0.4</td>\n",
       "      <td>0.8</td>\n",
       "      <td>0.0</td>\n",
       "      <td>0.0</td>\n",
       "      <td>0.0</td>\n",
       "      <td>0.0</td>\n",
       "      <td>0.0</td>\n",
       "      <td>0.0</td>\n",
       "      <td>0.0</td>\n",
       "      <td>0.0</td>\n",
       "      <td>0.0</td>\n",
       "      <td>0.0</td>\n",
       "    </tr>\n",
       "    <tr>\n",
       "      <th>softpop</th>\n",
       "      <td>0.4</td>\n",
       "      <td>1.0</td>\n",
       "      <td>0.4</td>\n",
       "      <td>0.0</td>\n",
       "      <td>0.0</td>\n",
       "      <td>0.2</td>\n",
       "      <td>0.0</td>\n",
       "      <td>0.0</td>\n",
       "      <td>0.0</td>\n",
       "      <td>0.0</td>\n",
       "      <td>0.1</td>\n",
       "      <td>0.0</td>\n",
       "      <td>0.0</td>\n",
       "    </tr>\n",
       "    <tr>\n",
       "      <th>electropop</th>\n",
       "      <td>0.8</td>\n",
       "      <td>0.4</td>\n",
       "      <td>1.0</td>\n",
       "      <td>0.0</td>\n",
       "      <td>0.0</td>\n",
       "      <td>0.0</td>\n",
       "      <td>0.0</td>\n",
       "      <td>0.0</td>\n",
       "      <td>0.0</td>\n",
       "      <td>0.0</td>\n",
       "      <td>0.4</td>\n",
       "      <td>0.0</td>\n",
       "      <td>0.0</td>\n",
       "    </tr>\n",
       "    <tr>\n",
       "      <th>rockclassics</th>\n",
       "      <td>0.0</td>\n",
       "      <td>0.0</td>\n",
       "      <td>0.0</td>\n",
       "      <td>1.0</td>\n",
       "      <td>0.7</td>\n",
       "      <td>0.3</td>\n",
       "      <td>0.0</td>\n",
       "      <td>0.0</td>\n",
       "      <td>0.0</td>\n",
       "      <td>0.0</td>\n",
       "      <td>0.0</td>\n",
       "      <td>0.4</td>\n",
       "      <td>0.0</td>\n",
       "    </tr>\n",
       "    <tr>\n",
       "      <th>rockhymns</th>\n",
       "      <td>0.0</td>\n",
       "      <td>0.0</td>\n",
       "      <td>0.0</td>\n",
       "      <td>0.7</td>\n",
       "      <td>1.0</td>\n",
       "      <td>0.3</td>\n",
       "      <td>0.0</td>\n",
       "      <td>0.0</td>\n",
       "      <td>0.0</td>\n",
       "      <td>0.2</td>\n",
       "      <td>0.0</td>\n",
       "      <td>0.5</td>\n",
       "      <td>0.0</td>\n",
       "    </tr>\n",
       "    <tr>\n",
       "      <th>soft_rock</th>\n",
       "      <td>0.0</td>\n",
       "      <td>0.2</td>\n",
       "      <td>0.0</td>\n",
       "      <td>0.3</td>\n",
       "      <td>0.3</td>\n",
       "      <td>1.0</td>\n",
       "      <td>0.0</td>\n",
       "      <td>0.0</td>\n",
       "      <td>0.0</td>\n",
       "      <td>0.0</td>\n",
       "      <td>0.0</td>\n",
       "      <td>0.0</td>\n",
       "      <td>0.0</td>\n",
       "    </tr>\n",
       "    <tr>\n",
       "      <th>metalcore</th>\n",
       "      <td>0.0</td>\n",
       "      <td>0.0</td>\n",
       "      <td>0.0</td>\n",
       "      <td>0.0</td>\n",
       "      <td>0.0</td>\n",
       "      <td>0.0</td>\n",
       "      <td>1.0</td>\n",
       "      <td>0.7</td>\n",
       "      <td>0.6</td>\n",
       "      <td>0.0</td>\n",
       "      <td>0.0</td>\n",
       "      <td>0.0</td>\n",
       "      <td>0.0</td>\n",
       "    </tr>\n",
       "    <tr>\n",
       "      <th>metal</th>\n",
       "      <td>0.0</td>\n",
       "      <td>0.0</td>\n",
       "      <td>0.0</td>\n",
       "      <td>0.0</td>\n",
       "      <td>0.0</td>\n",
       "      <td>0.0</td>\n",
       "      <td>0.7</td>\n",
       "      <td>1.0</td>\n",
       "      <td>0.8</td>\n",
       "      <td>0.5</td>\n",
       "      <td>0.0</td>\n",
       "      <td>0.6</td>\n",
       "      <td>0.0</td>\n",
       "    </tr>\n",
       "    <tr>\n",
       "      <th>classic_metal</th>\n",
       "      <td>0.0</td>\n",
       "      <td>0.0</td>\n",
       "      <td>0.0</td>\n",
       "      <td>0.0</td>\n",
       "      <td>0.0</td>\n",
       "      <td>0.0</td>\n",
       "      <td>0.6</td>\n",
       "      <td>0.8</td>\n",
       "      <td>1.0</td>\n",
       "      <td>0.5</td>\n",
       "      <td>0.0</td>\n",
       "      <td>0.4</td>\n",
       "      <td>0.0</td>\n",
       "    </tr>\n",
       "    <tr>\n",
       "      <th>grunge</th>\n",
       "      <td>0.0</td>\n",
       "      <td>0.0</td>\n",
       "      <td>0.0</td>\n",
       "      <td>0.0</td>\n",
       "      <td>0.2</td>\n",
       "      <td>0.0</td>\n",
       "      <td>0.0</td>\n",
       "      <td>0.5</td>\n",
       "      <td>0.5</td>\n",
       "      <td>1.0</td>\n",
       "      <td>0.0</td>\n",
       "      <td>0.0</td>\n",
       "      <td>0.0</td>\n",
       "    </tr>\n",
       "    <tr>\n",
       "      <th>hiphop</th>\n",
       "      <td>0.0</td>\n",
       "      <td>0.1</td>\n",
       "      <td>0.4</td>\n",
       "      <td>0.0</td>\n",
       "      <td>0.0</td>\n",
       "      <td>0.0</td>\n",
       "      <td>0.0</td>\n",
       "      <td>0.0</td>\n",
       "      <td>0.0</td>\n",
       "      <td>0.0</td>\n",
       "      <td>1.0</td>\n",
       "      <td>0.0</td>\n",
       "      <td>0.0</td>\n",
       "    </tr>\n",
       "    <tr>\n",
       "      <th>poppunk</th>\n",
       "      <td>0.0</td>\n",
       "      <td>0.0</td>\n",
       "      <td>0.0</td>\n",
       "      <td>0.4</td>\n",
       "      <td>0.5</td>\n",
       "      <td>0.0</td>\n",
       "      <td>0.0</td>\n",
       "      <td>0.6</td>\n",
       "      <td>0.4</td>\n",
       "      <td>0.0</td>\n",
       "      <td>0.0</td>\n",
       "      <td>1.0</td>\n",
       "      <td>0.0</td>\n",
       "    </tr>\n",
       "    <tr>\n",
       "      <th>classic</th>\n",
       "      <td>0.0</td>\n",
       "      <td>0.0</td>\n",
       "      <td>0.0</td>\n",
       "      <td>0.0</td>\n",
       "      <td>0.0</td>\n",
       "      <td>0.0</td>\n",
       "      <td>0.0</td>\n",
       "      <td>0.0</td>\n",
       "      <td>0.0</td>\n",
       "      <td>0.0</td>\n",
       "      <td>0.0</td>\n",
       "      <td>0.0</td>\n",
       "      <td>1.0</td>\n",
       "    </tr>\n",
       "  </tbody>\n",
       "</table>\n",
       "</div>"
      ],
      "text/plain": [
       "               clubbeats  softpop  electropop  rockclassics  rockhymns  \\\n",
       "clubbeats            1.0      0.4         0.8           0.0        0.0   \n",
       "softpop              0.4      1.0         0.4           0.0        0.0   \n",
       "electropop           0.8      0.4         1.0           0.0        0.0   \n",
       "rockclassics         0.0      0.0         0.0           1.0        0.7   \n",
       "rockhymns            0.0      0.0         0.0           0.7        1.0   \n",
       "soft_rock            0.0      0.2         0.0           0.3        0.3   \n",
       "metalcore            0.0      0.0         0.0           0.0        0.0   \n",
       "metal                0.0      0.0         0.0           0.0        0.0   \n",
       "classic_metal        0.0      0.0         0.0           0.0        0.0   \n",
       "grunge               0.0      0.0         0.0           0.0        0.2   \n",
       "hiphop               0.0      0.1         0.4           0.0        0.0   \n",
       "poppunk              0.0      0.0         0.0           0.4        0.5   \n",
       "classic              0.0      0.0         0.0           0.0        0.0   \n",
       "\n",
       "               soft_rock  metalcore  metal  classic_metal  grunge  hiphop  \\\n",
       "clubbeats            0.0        0.0    0.0            0.0     0.0     0.0   \n",
       "softpop              0.2        0.0    0.0            0.0     0.0     0.1   \n",
       "electropop           0.0        0.0    0.0            0.0     0.0     0.4   \n",
       "rockclassics         0.3        0.0    0.0            0.0     0.0     0.0   \n",
       "rockhymns            0.3        0.0    0.0            0.0     0.2     0.0   \n",
       "soft_rock            1.0        0.0    0.0            0.0     0.0     0.0   \n",
       "metalcore            0.0        1.0    0.7            0.6     0.0     0.0   \n",
       "metal                0.0        0.7    1.0            0.8     0.5     0.0   \n",
       "classic_metal        0.0        0.6    0.8            1.0     0.5     0.0   \n",
       "grunge               0.0        0.0    0.5            0.5     1.0     0.0   \n",
       "hiphop               0.0        0.0    0.0            0.0     0.0     1.0   \n",
       "poppunk              0.0        0.0    0.6            0.4     0.0     0.0   \n",
       "classic              0.0        0.0    0.0            0.0     0.0     0.0   \n",
       "\n",
       "               poppunk  classic  \n",
       "clubbeats          0.0      0.0  \n",
       "softpop            0.0      0.0  \n",
       "electropop         0.0      0.0  \n",
       "rockclassics       0.4      0.0  \n",
       "rockhymns          0.5      0.0  \n",
       "soft_rock          0.0      0.0  \n",
       "metalcore          0.0      0.0  \n",
       "metal              0.6      0.0  \n",
       "classic_metal      0.4      0.0  \n",
       "grunge             0.0      0.0  \n",
       "hiphop             0.0      0.0  \n",
       "poppunk            1.0      0.0  \n",
       "classic            0.0      1.0  "
      ]
     },
     "execution_count": 23,
     "metadata": {},
     "output_type": "execute_result"
    }
   ],
   "source": [
    "# get all playlist-names from our dataset\n",
    "playlist_names = [pl[\"name\"] for pl in playlists]\n",
    "\n",
    "# create the lookup-table\n",
    "playlist_similarities = pd.DataFrame(np.zeros((len(playlist_names),len(playlist_names))), \n",
    "                                     index   = playlist_names, \n",
    "                                     columns = playlist_names)\n",
    "\n",
    "# self-similarity\n",
    "for i in range(len(playlist_names)):\n",
    "    for j in range(len(playlist_names)):\n",
    "        if i == j:\n",
    "            playlist_similarities.iloc[i,j] = 1.0\n",
    "\n",
    "# genre-similarities\n",
    "for s in sim:\n",
    "    playlist_similarities.loc[s[0][0],s[0][1]] = s[1]\n",
    "    playlist_similarities.loc[s[0][1],s[0][0]] = s[1]\n",
    "\n",
    "# show results\n",
    "playlist_similarities"
   ]
  },
  {
   "cell_type": "markdown",
   "metadata": {},
   "source": [
    "### Train network with prior knowledge\n",
    "\n",
    "With this lookup-table we can create more accurate input pairs. Insted of similar/dissimilar we can now apply the supplied similarites:"
   ]
  },
  {
   "cell_type": "code",
   "execution_count": 24,
   "metadata": {},
   "outputs": [],
   "source": [
    "def create_pairs_with_sims(feature_data, metadata, num_pairs_per_track, playlist_similarities):\n",
    "    \n",
    "    data_pairs = []\n",
    "    labels     = []\n",
    "    \n",
    "    for row_id, q_track in metadata.sample(frac=1).iterrows():\n",
    "        \n",
    "        for _ in range(num_pairs_per_track):\n",
    "            \n",
    "            # search similar and dissimilar examples\n",
    "            pos_example = metadata[metadata.playlist == q_track.playlist].sample(1)\n",
    "            neg_example = metadata[metadata.playlist != q_track.playlist].sample(1)\n",
    "\n",
    "            # create feature pairs\n",
    "            \n",
    "            # similar\n",
    "            data_pairs.append([feature_data[[row_id]][0], feature_data[[pos_example.index]][0]])\n",
    "            labels.append(playlist_similarities.loc[q_track.playlist, pos_example.playlist])\n",
    "\n",
    "            # dissimilar\n",
    "            data_pairs.append([feature_data[[row_id]][0], feature_data[[neg_example.index]][0]])\n",
    "            labels.append(playlist_similarities.loc[q_track.playlist, neg_example.playlist])\n",
    "\n",
    "    return np.array(data_pairs), np.array(labels)"
   ]
  },
  {
   "cell_type": "markdown",
   "metadata": {},
   "source": [
    "Execute the function to prepare the data:"
   ]
  },
  {
   "cell_type": "code",
   "execution_count": 25,
   "metadata": {},
   "outputs": [
    {
     "data": {
      "text/plain": [
       "(21200, 2, 69)"
      ]
     },
     "execution_count": 25,
     "metadata": {},
     "output_type": "execute_result"
    }
   ],
   "source": [
    "# get pairs\n",
    "data_pairs, labels = create_pairs_with_sims(feature_data, metadata, 10, playlist_similarities)\n",
    "\n",
    "# check - how many instances have we created?\n",
    "data_pairs.shape"
   ]
  },
  {
   "cell_type": "markdown",
   "metadata": {},
   "source": [
    "Prepare the Siamese Neural Network"
   ]
  },
  {
   "cell_type": "code",
   "execution_count": 26,
   "metadata": {},
   "outputs": [],
   "source": [
    "# define the model\n",
    "model_sim = create_siamese_network(data_pairs[:,0].shape[1:])\n",
    "\n",
    "# define the optimizer\n",
    "opt = Nadam(lr=0.001)\n",
    "\n",
    "# compile the model\n",
    "model_sim.compile(loss      = contrastive_loss, \n",
    "                  optimizer = opt)"
   ]
  },
  {
   "cell_type": "markdown",
   "metadata": {},
   "source": [
    "Train the model on the adapted data:"
   ]
  },
  {
   "cell_type": "code",
   "execution_count": 27,
   "metadata": {
    "scrolled": true
   },
   "outputs": [
    {
     "data": {
      "image/png": "[encoded data removed]",
      "text/plain": [
       "<matplotlib.figure.Figure at 0x7f23c44dbeb8>"
      ]
     },
     "metadata": {},
     "output_type": "display_data"
    }
   ],
   "source": [
    "model_sim.fit([data_pairs[:, 0], data_pairs[:, 1]], \n",
    "               labels, \n",
    "               batch_size       = 24, \n",
    "               verbose          = 0, \n",
    "               epochs           = 25, \n",
    "               callbacks        = [tut_func.PlotLosses()], \n",
    "               validation_split = 0.1);"
   ]
  },
  {
   "cell_type": "markdown",
   "metadata": {},
   "source": [
    "Now let's check the results for some individual tracks by supplying the index to our dataset:"
   ]
  },
  {
   "cell_type": "code",
   "execution_count": 28,
   "metadata": {},
   "outputs": [
    {
     "name": "stdout",
     "output_type": "stream",
     "text": [
      "track_id                                  637McrDyDQ9CffkFuZGRpq\n",
      "artist_name                                                KSHMR\n",
      "title                                                    Kolkata\n",
      "album_name                                               Kolkata\n",
      "label                                                     Dharma\n",
      "duration                                                  206250\n",
      "popularity                                                    54\n",
      "year                                                        2017\n",
      "genres         [big room, deep big room, edm, electro house, ...\n",
      "playlist                                               clubbeats\n",
      "Name: 33, dtype: object\n"
     ]
    },
    {
     "data": {
      "text/html": [
       "<div>\n",
       "<style scoped>\n",
       "    .dataframe tbody tr th:only-of-type {\n",
       "        vertical-align: middle;\n",
       "    }\n",
       "\n",
       "    .dataframe tbody tr th {\n",
       "        vertical-align: top;\n",
       "    }\n",
       "\n",
       "    .dataframe thead th {\n",
       "        text-align: right;\n",
       "    }\n",
       "</style>\n",
       "<table border=\"1\" class=\"dataframe\">\n",
       "  <thead>\n",
       "    <tr style=\"text-align: right;\">\n",
       "      <th></th>\n",
       "      <th>artist_name</th>\n",
       "      <th>title</th>\n",
       "      <th>album_name</th>\n",
       "      <th>year</th>\n",
       "      <th>playlist</th>\n",
       "    </tr>\n",
       "  </thead>\n",
       "  <tbody>\n",
       "    <tr>\n",
       "      <th>33</th>\n",
       "      <td>KSHMR</td>\n",
       "      <td>Kolkata</td>\n",
       "      <td>Kolkata</td>\n",
       "      <td>2017</td>\n",
       "      <td>clubbeats</td>\n",
       "    </tr>\n",
       "    <tr>\n",
       "      <th>58</th>\n",
       "      <td>David Tort</td>\n",
       "      <td>Yo Te Prefiero (feat. Dennisse Jackson)</td>\n",
       "      <td>Yo Te Prefiero (feat. Dennisse Jackson)</td>\n",
       "      <td>2018</td>\n",
       "      <td>clubbeats</td>\n",
       "    </tr>\n",
       "    <tr>\n",
       "      <th>26</th>\n",
       "      <td>Noise Cans</td>\n",
       "      <td>No War (feat. Jesse Royal) - Yellow Claw Remix</td>\n",
       "      <td>No War (feat. Jesse Royal) [Yellow Claw Remix]</td>\n",
       "      <td>2017</td>\n",
       "      <td>clubbeats</td>\n",
       "    </tr>\n",
       "    <tr>\n",
       "      <th>9</th>\n",
       "      <td>Monik</td>\n",
       "      <td>Palkia</td>\n",
       "      <td>Palkia</td>\n",
       "      <td>2016</td>\n",
       "      <td>clubbeats</td>\n",
       "    </tr>\n",
       "    <tr>\n",
       "      <th>36</th>\n",
       "      <td>Hardwell</td>\n",
       "      <td>Safari</td>\n",
       "      <td>Safari</td>\n",
       "      <td>2018</td>\n",
       "      <td>clubbeats</td>\n",
       "    </tr>\n",
       "    <tr>\n",
       "      <th>37</th>\n",
       "      <td>Dropgun</td>\n",
       "      <td>Little Drop</td>\n",
       "      <td>Little Drop</td>\n",
       "      <td>2017</td>\n",
       "      <td>clubbeats</td>\n",
       "    </tr>\n",
       "    <tr>\n",
       "      <th>32</th>\n",
       "      <td>Dylan Taylor</td>\n",
       "      <td>Frankenstein</td>\n",
       "      <td>Frankenstein</td>\n",
       "      <td>2018</td>\n",
       "      <td>clubbeats</td>\n",
       "    </tr>\n",
       "    <tr>\n",
       "      <th>3</th>\n",
       "      <td>J Balvin</td>\n",
       "      <td>Mi Gente - Hardwell &amp; Quintino Remix</td>\n",
       "      <td>Mi Gente (Hardwell &amp; Quintino Remix)</td>\n",
       "      <td>2017</td>\n",
       "      <td>clubbeats</td>\n",
       "    </tr>\n",
       "    <tr>\n",
       "      <th>304</th>\n",
       "      <td>The Him</td>\n",
       "      <td>Everybody Hurts</td>\n",
       "      <td>Everybody Hurts</td>\n",
       "      <td>2017</td>\n",
       "      <td>electropop</td>\n",
       "    </tr>\n",
       "    <tr>\n",
       "      <th>48</th>\n",
       "      <td>TV Noise</td>\n",
       "      <td>Milkshake</td>\n",
       "      <td>Milkshake</td>\n",
       "      <td>2018</td>\n",
       "      <td>clubbeats</td>\n",
       "    </tr>\n",
       "  </tbody>\n",
       "</table>\n",
       "</div>"
      ],
      "text/plain": [
       "      artist_name                                           title  \\\n",
       "33          KSHMR                                         Kolkata   \n",
       "58     David Tort         Yo Te Prefiero (feat. Dennisse Jackson)   \n",
       "26     Noise Cans  No War (feat. Jesse Royal) - Yellow Claw Remix   \n",
       "9           Monik                                          Palkia   \n",
       "36       Hardwell                                          Safari   \n",
       "37        Dropgun                                     Little Drop   \n",
       "32   Dylan Taylor                                    Frankenstein   \n",
       "3        J Balvin            Mi Gente - Hardwell & Quintino Remix   \n",
       "304       The Him                                 Everybody Hurts   \n",
       "48       TV Noise                                       Milkshake   \n",
       "\n",
       "                                         album_name  year    playlist  \n",
       "33                                          Kolkata  2017   clubbeats  \n",
       "58          Yo Te Prefiero (feat. Dennisse Jackson)  2018   clubbeats  \n",
       "26   No War (feat. Jesse Royal) [Yellow Claw Remix]  2017   clubbeats  \n",
       "9                                            Palkia  2016   clubbeats  \n",
       "36                                           Safari  2018   clubbeats  \n",
       "37                                      Little Drop  2017   clubbeats  \n",
       "32                                     Frankenstein  2018   clubbeats  \n",
       "3              Mi Gente (Hardwell & Quintino Remix)  2017   clubbeats  \n",
       "304                                 Everybody Hurts  2017  electropop  \n",
       "48                                        Milkshake  2018   clubbeats  "
      ]
     },
     "execution_count": 28,
     "metadata": {},
     "output_type": "execute_result"
    }
   ],
   "source": [
    "similar(model_sim, 33)"
   ]
  },
  {
   "cell_type": "markdown",
   "metadata": {},
   "source": [
    "General model evaluation:"
   ]
  },
  {
   "cell_type": "code",
   "execution_count": null,
   "metadata": {},
   "outputs": [],
   "source": [
    "evaluate(lambda x,y: [model_sim.predict([x[[i]], y]) for i in range(feature_data.shape[0])], 20)"
   ]
  },
  {
   "cell_type": "markdown",
   "metadata": {},
   "source": [
    "### Discussion of Results\n",
    "\n",
    "Although the performance of the evaluation has dropped significantly, the ranked result-lists seem to be more appropriate. From an acoustic similarity point of view, the improved model seems to fit better to track-based music similarity."
   ]
  },
  {
   "cell_type": "markdown",
   "metadata": {},
   "source": [
    "# Improve Performance through Identity\n",
    "\n",
    "So far we have taught the network what is similar and what not, but we have not shown it, what is identical. All input pairs created so far missed to pass identical data. In the following step, we will include identical pairs into the training instances. To emphasis the identity, only identical pairs will be assigned a label of 1. All other similarity values of the lookup-table will be decreased by 0.1. Thus, tracks of the same playlist will have a similarity value 0f 0.9."
   ]
  },
  {
   "cell_type": "code",
   "execution_count": 29,
   "metadata": {},
   "outputs": [],
   "source": [
    "def create_pairs_with_sims_and_identity(feature_data, metadata, num_pairs_per_track, playlist_similarities):\n",
    "    \n",
    "    data_pairs = []\n",
    "    labels     = []\n",
    "    \n",
    "    for row_id, q_track in metadata.sample(frac=1).iterrows():\n",
    "        \n",
    "        # identical pair\n",
    "        data_pairs.append([feature_data[[row_id]][0], feature_data[[row_id]][0]])\n",
    "        labels.append(1)\n",
    "        \n",
    "        for _ in range(num_pairs_per_track):\n",
    "            \n",
    "            # search similar and dissimilar examples\n",
    "            pos_example = metadata[metadata.playlist == q_track.playlist].sample(1)\n",
    "            neg_example = metadata[metadata.playlist != q_track.playlist].sample(1)\n",
    "\n",
    "            # create feature pairs\n",
    "            \n",
    "            # similar pair\n",
    "            data_pairs.append([feature_data[[row_id]][0], feature_data[[pos_example.index]][0]])\n",
    "            sim_val = playlist_similarities.loc[q_track.playlist, pos_example.playlist] - 0.1\n",
    "            labels.append(np.max([0, sim_val]))\n",
    "\n",
    "            # dissimilar pair\n",
    "            data_pairs.append([feature_data[[row_id]][0], feature_data[[neg_example.index]][0]])\n",
    "            sim_val = playlist_similarities.loc[q_track.playlist, neg_example.playlist] - 0.1\n",
    "            labels.append(np.max([0, sim_val]))\n",
    "\n",
    "    return np.array(data_pairs), np.array(labels)"
   ]
  },
  {
   "cell_type": "markdown",
   "metadata": {},
   "source": [
    "Execute the function to prepare the data:"
   ]
  },
  {
   "cell_type": "code",
   "execution_count": 30,
   "metadata": {},
   "outputs": [],
   "source": [
    "data_pairs, labels = create_pairs_with_sims_and_identity(feature_data, metadata, 10, playlist_similarities)"
   ]
  },
  {
   "cell_type": "markdown",
   "metadata": {},
   "source": [
    "Prepare the Neural Network"
   ]
  },
  {
   "cell_type": "code",
   "execution_count": 31,
   "metadata": {},
   "outputs": [],
   "source": [
    "# define the model\n",
    "model_sim_id = create_siamese_network(data_pairs[:,0].shape[1:])\n",
    "\n",
    "# define the optimizer\n",
    "opt = Nadam(lr=0.001)\n",
    "\n",
    "# compile the model\n",
    "model_sim_id.compile(loss      = contrastive_loss, \n",
    "                  optimizer = opt)"
   ]
  },
  {
   "cell_type": "markdown",
   "metadata": {},
   "source": [
    "Train the model on the adapted data"
   ]
  },
  {
   "cell_type": "code",
   "execution_count": 32,
   "metadata": {},
   "outputs": [
    {
     "data": {
      "image/png": "[encoded data removed]",
      "text/plain": [
       "<matplotlib.figure.Figure at 0x7f23a259fdd8>"
      ]
     },
     "metadata": {},
     "output_type": "display_data"
    }
   ],
   "source": [
    "model_sim_id.fit([data_pairs[:, 0], data_pairs[:, 1]], \n",
    "               labels, \n",
    "               batch_size       = 24, \n",
    "               verbose          = 0, \n",
    "               epochs           = 25, \n",
    "               callbacks        = [tut_func.PlotLosses()], \n",
    "               validation_split = 0.1);"
   ]
  },
  {
   "cell_type": "markdown",
   "metadata": {},
   "source": [
    "Now let's check the results for some individual tracks by supplying the index to our dataset:"
   ]
  },
  {
   "cell_type": "code",
   "execution_count": 33,
   "metadata": {},
   "outputs": [
    {
     "name": "stdout",
     "output_type": "stream",
     "text": [
      "track_id                                  637McrDyDQ9CffkFuZGRpq\n",
      "artist_name                                                KSHMR\n",
      "title                                                    Kolkata\n",
      "album_name                                               Kolkata\n",
      "label                                                     Dharma\n",
      "duration                                                  206250\n",
      "popularity                                                    54\n",
      "year                                                        2017\n",
      "genres         [big room, deep big room, edm, electro house, ...\n",
      "playlist                                               clubbeats\n",
      "Name: 33, dtype: object\n"
     ]
    },
    {
     "data": {
      "text/html": [
       "<div>\n",
       "<style scoped>\n",
       "    .dataframe tbody tr th:only-of-type {\n",
       "        vertical-align: middle;\n",
       "    }\n",
       "\n",
       "    .dataframe tbody tr th {\n",
       "        vertical-align: top;\n",
       "    }\n",
       "\n",
       "    .dataframe thead th {\n",
       "        text-align: right;\n",
       "    }\n",
       "</style>\n",
       "<table border=\"1\" class=\"dataframe\">\n",
       "  <thead>\n",
       "    <tr style=\"text-align: right;\">\n",
       "      <th></th>\n",
       "      <th>artist_name</th>\n",
       "      <th>title</th>\n",
       "      <th>album_name</th>\n",
       "      <th>year</th>\n",
       "      <th>playlist</th>\n",
       "    </tr>\n",
       "  </thead>\n",
       "  <tbody>\n",
       "    <tr>\n",
       "      <th>33</th>\n",
       "      <td>KSHMR</td>\n",
       "      <td>Kolkata</td>\n",
       "      <td>Kolkata</td>\n",
       "      <td>2017</td>\n",
       "      <td>clubbeats</td>\n",
       "    </tr>\n",
       "    <tr>\n",
       "      <th>79</th>\n",
       "      <td>Sander van Doorn</td>\n",
       "      <td>Riff - SvD x David Tort Remix</td>\n",
       "      <td>Riff (SvD x David Tort Remix)</td>\n",
       "      <td>2017</td>\n",
       "      <td>clubbeats</td>\n",
       "    </tr>\n",
       "    <tr>\n",
       "      <th>52</th>\n",
       "      <td>Mike Williams</td>\n",
       "      <td>Step Up</td>\n",
       "      <td>Step Up</td>\n",
       "      <td>2017</td>\n",
       "      <td>clubbeats</td>\n",
       "    </tr>\n",
       "    <tr>\n",
       "      <th>16</th>\n",
       "      <td>Hardwell</td>\n",
       "      <td>Get Low</td>\n",
       "      <td>Get Low</td>\n",
       "      <td>2018</td>\n",
       "      <td>clubbeats</td>\n",
       "    </tr>\n",
       "    <tr>\n",
       "      <th>25</th>\n",
       "      <td>Galantis</td>\n",
       "      <td>Rich Boy - Quintino Remix</td>\n",
       "      <td>Rich Boy (Remixes)</td>\n",
       "      <td>2017</td>\n",
       "      <td>clubbeats</td>\n",
       "    </tr>\n",
       "    <tr>\n",
       "      <th>34</th>\n",
       "      <td>Garmiani</td>\n",
       "      <td>Fogo</td>\n",
       "      <td>Fogo</td>\n",
       "      <td>2017</td>\n",
       "      <td>clubbeats</td>\n",
       "    </tr>\n",
       "    <tr>\n",
       "      <th>22</th>\n",
       "      <td>Maeva Carter</td>\n",
       "      <td>Escape</td>\n",
       "      <td>Escape</td>\n",
       "      <td>2018</td>\n",
       "      <td>clubbeats</td>\n",
       "    </tr>\n",
       "    <tr>\n",
       "      <th>14</th>\n",
       "      <td>Armin van Buuren</td>\n",
       "      <td>My Symphony (The Best Of Armin Only Anthem)</td>\n",
       "      <td>My Symphony (The Best Of Armin Only Anthem)</td>\n",
       "      <td>2017</td>\n",
       "      <td>clubbeats</td>\n",
       "    </tr>\n",
       "    <tr>\n",
       "      <th>32</th>\n",
       "      <td>Dylan Taylor</td>\n",
       "      <td>Frankenstein</td>\n",
       "      <td>Frankenstein</td>\n",
       "      <td>2018</td>\n",
       "      <td>clubbeats</td>\n",
       "    </tr>\n",
       "    <tr>\n",
       "      <th>60</th>\n",
       "      <td>Alejandro Diego</td>\n",
       "      <td>Underground</td>\n",
       "      <td>Underground</td>\n",
       "      <td>2017</td>\n",
       "      <td>clubbeats</td>\n",
       "    </tr>\n",
       "  </tbody>\n",
       "</table>\n",
       "</div>"
      ],
      "text/plain": [
       "         artist_name                                        title  \\\n",
       "33             KSHMR                                      Kolkata   \n",
       "79  Sander van Doorn                Riff - SvD x David Tort Remix   \n",
       "52     Mike Williams                                      Step Up   \n",
       "16          Hardwell                                      Get Low   \n",
       "25          Galantis                    Rich Boy - Quintino Remix   \n",
       "34          Garmiani                                         Fogo   \n",
       "22      Maeva Carter                                       Escape   \n",
       "14  Armin van Buuren  My Symphony (The Best Of Armin Only Anthem)   \n",
       "32      Dylan Taylor                                 Frankenstein   \n",
       "60   Alejandro Diego                                  Underground   \n",
       "\n",
       "                                     album_name  year   playlist  \n",
       "33                                      Kolkata  2017  clubbeats  \n",
       "79                Riff (SvD x David Tort Remix)  2017  clubbeats  \n",
       "52                                      Step Up  2017  clubbeats  \n",
       "16                                      Get Low  2018  clubbeats  \n",
       "25                           Rich Boy (Remixes)  2017  clubbeats  \n",
       "34                                         Fogo  2017  clubbeats  \n",
       "22                                       Escape  2018  clubbeats  \n",
       "14  My Symphony (The Best Of Armin Only Anthem)  2017  clubbeats  \n",
       "32                                 Frankenstein  2018  clubbeats  \n",
       "60                                  Underground  2017  clubbeats  "
      ]
     },
     "execution_count": 33,
     "metadata": {},
     "output_type": "execute_result"
    }
   ],
   "source": [
    "similar(model_sim_id, 33)"
   ]
  },
  {
   "cell_type": "markdown",
   "metadata": {},
   "source": [
    "General model evaluation:"
   ]
  },
  {
   "cell_type": "code",
   "execution_count": null,
   "metadata": {},
   "outputs": [],
   "source": [
    "evaluate(lambda x,y: [model_sim_id.predict([x[[i]], y]) for i in range(feature_data.shape[0])], 20)"
   ]
  },
  {
   "cell_type": "markdown",
   "metadata": {},
   "source": [
    "### Discussion of Results\n",
    "\n",
    "Now the model can differentiate between highly and somehow similar."
   ]
  },
  {
   "cell_type": "markdown",
   "metadata": {},
   "source": [
    "# Using LSTMs to train on Sequential Data\n",
    "\n",
    "So long we have by large ignored the temporal information provided by the Spotify features. As mentioned in the first part of the tutorial, these features are extracted from segmented audio data. For each of these segments a feature vector is provided. So far we have aggregated this information into a single vector by calculating statistical values to abstract from the temporal representation and create a general descriptor for the entire track.\n",
    "\n",
    "In the following part we will harness this temporal information. Recurrent Neural Networks are perfect for analysing sequential data. We will be using the Long Short-Term Memory (LSTM) to train our model on the sequential data.\n",
    "\n",
    "### Preparing input-data for the LSTM\n",
    "\n",
    "Now it gets a little more complicated. LSTMs do not take a single input vector as input, but sequences of vectors, also referred to as timesteps. In this tutorial a timestep corresponds with a segment provided by the Spotify API. Such a segment contains the same features used before, but on a smaller temporal scale. We will again caoncatenate those features into a single vector and use several consecutive segments as input for the LSTM.\n",
    "\n",
    "Unfortunately, du to the onset detection used by Spotify to segment the audio data, these segments do not have the same length. The following chart shows the distribution of the segment length's:"
   ]
  },
  {
   "cell_type": "code",
   "execution_count": 34,
   "metadata": {},
   "outputs": [
    {
     "data": {
      "image/png": "[encoded data removed]",
      "text/plain": [
       "<matplotlib.figure.Figure at 0x7f23a25af160>"
      ]
     },
     "metadata": {},
     "output_type": "display_data"
    }
   ],
   "source": [
    "segment_lengths = []\n",
    "\n",
    "for _, spotify_data in raw_track_data:\n",
    "    \n",
    "    _, _, _, f_sequential, f_trackbased = spotify_data\n",
    "    segment_lengths.append((f_trackbased[0][\"duration_ms\"] / 1000.) / len(f_sequential[\"segments\"]))\n",
    "\n",
    "# plot the distribution\n",
    "pd.DataFrame(segment_lengths).boxplot(figsize=(4,6));"
   ]
  },
  {
   "cell_type": "markdown",
   "metadata": {},
   "source": [
    "It can be seen, that those vary quite strong between 0.2 and 0.4 seconds. This is a problem when we use a fixed number of segments. For example, the analyzed time-span of 20 segments could range from 4 to 8 seconds. This has an effect on the represented tempo of a track and the model would learn a distorted representation of music similarity. Thus, we will rescale the featurespace using interpolation.\n",
    "\n",
    "Additionally to the sequential features, the track based features will be used too as an additional input to the neural network."
   ]
  },
  {
   "cell_type": "code",
   "execution_count": 35,
   "metadata": {},
   "outputs": [],
   "source": [
    "def aggregate_features_sequential(seq_data, track_data, len_segment_frames, len_segment_sec, m_data, with_year=False, with_popularity=False):\n",
    "    \n",
    "    # sequential data\n",
    "    segments = seq_data[\"segments\"]\n",
    "    sl       = len(segments)\n",
    "    \n",
    "    mfcc              = np.array([s[\"timbre\"]            for s in segments])\n",
    "    chroma            = np.array([s[\"pitches\"]           for s in segments])\n",
    "    loudness_max      = np.array([s[\"loudness_max\"]      for s in segments]).reshape((sl,1))\n",
    "    loudness_start    = np.array([s[\"loudness_start\"]    for s in segments]).reshape((sl,1))\n",
    "    loudness_max_time = np.array([s[\"loudness_max_time\"] for s in segments]).reshape((sl,1))\n",
    "    duration          = np.array([s[\"duration\"]          for s in segments]).reshape((sl,1))\n",
    "    confidence        = np.array([s[\"confidence\"]        for s in segments]).reshape((sl,1))\n",
    "        \n",
    "    # concatenate sequential features\n",
    "    sequential_features = np.concatenate([mfcc, chroma, loudness_max, loudness_start, \n",
    "                                          loudness_max_time, duration, confidence], axis=1)\n",
    "\n",
    "    # calculate length of segment (in ms)\n",
    "    length_of_track        = track_data[0][\"duration_ms\"] / 1000.\n",
    "    length_of_segment      = length_of_track / len(segments)\n",
    "    num_segments_for_n_sek = int(np.round(len_segment_sec / length_of_segment))\n",
    "    \n",
    "    # select a random lstm-input-segment from the aggregated feature data\n",
    "    offset  = np.random.randint(0, sl - num_segments_for_n_sek)\n",
    "    segment = sequential_features[offset:(offset+num_segments_for_n_sek),:]\n",
    "    \n",
    "    # re-scale segment length to desired length (in seconds)\n",
    "    x  = np.arange(segment.shape[0])\n",
    "    y  = np.arange(segment.shape[1])\n",
    "    xx = np.linspace(x.min(),x.max(),len_segment_frames)\n",
    "\n",
    "    newKernel = RectBivariateSpline(x,y,segment, kx=2,ky=2)\n",
    "    segment   = newKernel(xx,y)\n",
    "        \n",
    "    # track-based data\n",
    "    track_features = [track_data[0][\"acousticness\"],     # acoustic or not?\n",
    "                      track_data[0][\"danceability\"],     # danceable?\n",
    "                      track_data[0][\"energy\"],           # energetic or calm?\n",
    "                      track_data[0][\"instrumentalness\"], # is somebody singing?\n",
    "                      track_data[0][\"liveness\"],         # live or studio?\n",
    "                      track_data[0][\"speechiness\"],      # rap or singing?\n",
    "                      track_data[0][\"tempo\"],            # slow or fast?\n",
    "                      track_data[0][\"time_signature\"],   # 3/4, 4/4, 6/8, etc.\n",
    "                      track_data[0][\"valence\"]]          # happy or sad?\n",
    "    \n",
    "    if with_year:\n",
    "        track_features.append(int(m_data[\"year\"]))\n",
    "        \n",
    "    if with_popularity:\n",
    "        track_features.append(int(m_data[\"popularity\"]))\n",
    "        \n",
    "    \n",
    "    return segment, track_features\n"
   ]
  },
  {
   "cell_type": "markdown",
   "metadata": {},
   "source": [
    "Now lets prepare the input features. We will be using the following parameters"
   ]
  },
  {
   "cell_type": "code",
   "execution_count": 36,
   "metadata": {},
   "outputs": [],
   "source": [
    "# number of input-vectors for the LSTM\n",
    "len_segment_frames = 24\n",
    "\n",
    "# number of seconds these vectors describe\n",
    "len_segment_sec    = 6."
   ]
  },
  {
   "cell_type": "markdown",
   "metadata": {},
   "source": [
    "execute the function to prepare the data:"
   ]
  },
  {
   "cell_type": "code",
   "execution_count": 37,
   "metadata": {},
   "outputs": [
    {
     "name": "stdout",
     "output_type": "stream",
     "text": [
      "sequential_features.shape: (1060, 24, 29)\n",
      "trackbased_features.shape: (1060, 11)\n"
     ]
    }
   ],
   "source": [
    "sequential_features = []\n",
    "trackbased_features = []\n",
    "\n",
    "for i, (_, spotify_data) in enumerate(raw_track_data):\n",
    "    \n",
    "    _, _, _, f_sequential, f_trackbased = spotify_data\n",
    "    \n",
    "    seq_feat, track_feat = aggregate_features_sequential(f_sequential, \n",
    "                                                         f_trackbased, \n",
    "                                                         len_segment_frames,\n",
    "                                                         len_segment_sec,\n",
    "                                                         metadata.loc[i],\n",
    "                                                         with_year=True,\n",
    "                                                         with_popularity=True)\n",
    "    \n",
    "    sequential_features.append(seq_feat)\n",
    "    trackbased_features.append(track_feat)\n",
    "    \n",
    "sequential_features = np.asarray(sequential_features)\n",
    "trackbased_features = np.asarray(trackbased_features)\n",
    "\n",
    "print(\"sequential_features.shape:\", sequential_features.shape)\n",
    "print(\"trackbased_features.shape:\", trackbased_features.shape)"
   ]
  },
  {
   "cell_type": "markdown",
   "metadata": {},
   "source": [
    "### Normalization\n",
    "\n",
    "As in the examples before, we need to normalize the data before using it with the neural networks"
   ]
  },
  {
   "cell_type": "code",
   "execution_count": 38,
   "metadata": {},
   "outputs": [],
   "source": [
    "# standardize sequential_features\n",
    "rows, x, y = sequential_features.shape\n",
    "sequential_features  = sequential_features.reshape(rows, (x * y))\n",
    "sequential_features -= sequential_features.mean(axis=0)\n",
    "sequential_features /= sequential_features.std(axis=0)\n",
    "sequential_features  = sequential_features.reshape(rows, x, y)\n",
    "\n",
    "# standardize trackbased_features\n",
    "trackbased_features -= trackbased_features.mean(axis=0)\n",
    "trackbased_features /= trackbased_features.std(axis=0)"
   ]
  },
  {
   "cell_type": "markdown",
   "metadata": {},
   "source": [
    "### Create Data-Pairs\n",
    "\n",
    "Also like before, we have to prepare the paired training examples. We continue with the last approach presented in this part, which is based on the mutual similarities and includes identities. Each pair contains the sequential and track-based inputs."
   ]
  },
  {
   "cell_type": "code",
   "execution_count": 39,
   "metadata": {},
   "outputs": [],
   "source": [
    "def create_pairs_with_sims_and_identity_segments(sequential_features, trackbased_features, metadata, num_pairs_per_track, playlist_similarities):\n",
    "    \n",
    "    data_pairs_seq   = []\n",
    "    data_pairs_track = []\n",
    "    labels           = []\n",
    "    \n",
    "    for row_id, q_track in metadata.sample(frac=1).iterrows():\n",
    "        \n",
    "        data_pairs_seq.append([sequential_features[[row_id]][0], sequential_features[[row_id]][0]])\n",
    "        data_pairs_track.append([trackbased_features[[row_id]][0], trackbased_features[[row_id]][0]])\n",
    "        labels.append(1)\n",
    "        \n",
    "        for _ in range(num_pairs_per_track):\n",
    "            \n",
    "            # search similar and dissimilar examples\n",
    "            pos_example = metadata[metadata.playlist == q_track.playlist].sample(1)\n",
    "            neg_example = metadata[metadata.playlist != q_track.playlist].sample(1)\n",
    "\n",
    "            # create feature pairs\n",
    "            data_pairs_seq.append([sequential_features[[row_id]][0],   \n",
    "                                   sequential_features[[pos_example.index]][0]])\n",
    "            data_pairs_track.append([trackbased_features[[row_id]][0], \n",
    "                                     trackbased_features[[pos_example.index]][0]])\n",
    "            \n",
    "            sim_val = playlist_similarities.loc[q_track.playlist, pos_example.playlist] - 0.1\n",
    "            labels.append(np.max([0, sim_val]))\n",
    "\n",
    "            data_pairs_seq.append([sequential_features[[row_id]][0],   \n",
    "                                   sequential_features[[neg_example.index]][0]])\n",
    "            data_pairs_track.append([trackbased_features[[row_id]][0], \n",
    "                                     trackbased_features[[neg_example.index]][0]])\n",
    "            \n",
    "            sim_val = playlist_similarities.loc[q_track.playlist, neg_example.playlist] - 0.1\n",
    "            labels.append(np.max([0, sim_val]))\n",
    "\n",
    "    return np.array(data_pairs_seq), np.array(data_pairs_track), np.asarray(labels)"
   ]
  },
  {
   "cell_type": "markdown",
   "metadata": {},
   "source": [
    "Execute the function to prepare the results:"
   ]
  },
  {
   "cell_type": "code",
   "execution_count": 40,
   "metadata": {},
   "outputs": [],
   "source": [
    "data_pairs_seq, data_pairs_track, labels = \\\n",
    "    create_pairs_with_sims_and_identity_segments(sequential_features,\n",
    "                                                 trackbased_features,\n",
    "                                                 metadata, \n",
    "                                                 10, \n",
    "                                                 playlist_similarities)"
   ]
  },
  {
   "cell_type": "markdown",
   "metadata": {},
   "source": [
    "### The Siamese Network Architecture using LSTMs\n",
    "\n",
    "The network architecture consists again of shared \"twin\" layers. But, now two layers are shared. First the fully connected layers which train on the track-based features. Second, a bi-directional LSTM which trains on the re-scaled sequential data provided by the Spotify API. The network thus now takes four inputs. The outputs of the fully connected layer and the LSTM are finally joined and the Eucledian distance of each twin is calculated which is the final output of the model."
   ]
  },
  {
   "cell_type": "code",
   "execution_count": 41,
   "metadata": {},
   "outputs": [],
   "source": [
    "def create_siamese_network_with_lstm(data_pairs_seq, data_pairs_track):\n",
    "\n",
    "    # sequential input\n",
    "    input_seq_left  = Input(shape=data_pairs_seq[:, 0].shape[1:])\n",
    "    input_seq_right = Input(shape=data_pairs_seq[:, 0].shape[1:])\n",
    "\n",
    "    # track-based input\n",
    "    input_track_left  = Input(shape=data_pairs_track[:, 0].shape[1:])\n",
    "    input_track_right = Input(shape=data_pairs_track[:, 0].shape[1:])\n",
    "\n",
    "    # shared bi-directional LSTM layer for the sequential features\n",
    "    bdlstm = Bidirectional(LSTM(29, return_sequences=False, activation=\"selu\"))\n",
    "\n",
    "    # shared fully connected layers for the track-based features\n",
    "    shared_fc_1 = Dense(11, activation=\"selu\")\n",
    "    shared_fc_2 = Dense(11, activation=\"selu\")   \n",
    "\n",
    "    # left twin\n",
    "    seq_resp_left   = bdlstm(input_seq_left)\n",
    "    track_resp_left = shared_fc_1(shared_fc_2(input_track_left))\n",
    "    left_twin       = concatenate([seq_resp_left, track_resp_left], axis=1)\n",
    "\n",
    "    # right twin\n",
    "    seq_resp_right   = bdlstm(input_seq_right)\n",
    "    track_resp_right = shared_fc_1(shared_fc_2(input_track_right))\n",
    "    right_twin       = concatenate([seq_resp_right, track_resp_right], axis=1)\n",
    "\n",
    "    # calc difference\n",
    "    distance = Lambda(euclidean_distance,\n",
    "                      output_shape=lambda x: x[0])([left_twin, right_twin])\n",
    "\n",
    "    return Model([input_seq_left, input_seq_right, input_track_left, input_track_right], distance)"
   ]
  },
  {
   "cell_type": "markdown",
   "metadata": {},
   "source": [
    "Prepare the model:"
   ]
  },
  {
   "cell_type": "code",
   "execution_count": null,
   "metadata": {},
   "outputs": [],
   "source": [
    "# define the model\n",
    "model_rnn = create_siamese_network_with_lstm(data_pairs_seq, data_pairs_track)\n",
    "\n",
    "# define the optimizer\n",
    "opt = Nadam(lr=0.001)\n",
    "\n",
    "# compile the model\n",
    "model_rnn.compile(loss      = contrastive_loss, \n",
    "                  optimizer = opt)"
   ]
  },
  {
   "cell_type": "markdown",
   "metadata": {},
   "source": [
    "Train the model"
   ]
  },
  {
   "cell_type": "code",
   "execution_count": null,
   "metadata": {},
   "outputs": [
    {
     "data": {
      "image/png": "[encoded data removed]",
      "text/plain": [
       "<matplotlib.figure.Figure at 0x7f23c503c198>"
      ]
     },
     "metadata": {},
     "output_type": "display_data"
    }
   ],
   "source": [
    "model_rnn.fit([data_pairs_seq[:, 0],  data_pairs_seq[:, 1], \n",
    "               data_pairs_track[:,0], data_pairs_track[:,1]], \n",
    "              labels, \n",
    "              batch_size       = 24, \n",
    "              verbose          = 0, \n",
    "              epochs           = 25,\n",
    "              callbacks        = [tut_func.PlotLosses()], \n",
    "              validation_split = 0.1);"
   ]
  },
  {
   "cell_type": "markdown",
   "metadata": {},
   "source": [
    "### Evaluate by Example\n",
    "\n",
    "Due to the changed input, we also have to adapt the evaluation function to display example result-lists:"
   ]
  },
  {
   "cell_type": "code",
   "execution_count": null,
   "metadata": {},
   "outputs": [],
   "source": [
    "def similar_rnn(model, query_idx):\n",
    "    \n",
    "    print metadata.iloc[query_idx]\n",
    "    \n",
    "    # calclulate predicted distances between query track and all others\n",
    "    res = [model.predict([sequential_features[[query_idx]], sequential_features[[i]], \n",
    "                          trackbased_features[[query_idx]], trackbased_features[[i]]]) \\\n",
    "           for i in range(feature_data.shape[0])]\n",
    "\n",
    "    # reshape\n",
    "    res = np.array(res)\n",
    "    res = res.reshape(res.shape[0])\n",
    "\n",
    "    # get sorted indexes in ascending order (smallest distance to query track first)\n",
    "    si = np.argsort(res)\n",
    "    \n",
    "    # output filter\n",
    "    display_cols = [\"artist_name\", \"title\", \"album_name\", \"year\",\"playlist\"]\n",
    "    \n",
    "    return metadata.loc[si, display_cols][:10]"
   ]
  },
  {
   "cell_type": "markdown",
   "metadata": {},
   "source": [
    "Now let's check the results for some individual tracks by supplying the index to our dataset:"
   ]
  },
  {
   "cell_type": "code",
   "execution_count": null,
   "metadata": {},
   "outputs": [],
   "source": [
    "similar_rnn(model_rnn, 330)"
   ]
  },
  {
   "cell_type": "code",
   "execution_count": null,
   "metadata": {},
   "outputs": [],
   "source": [
    "def evaluate(similarity_function, cut_off):\n",
    "\n",
    "    all_precisions = []\n",
    "    \n",
    "    pbar = progressbar.ProgressBar()\n",
    "\n",
    "    for idx in pbar(metadata.index.values):\n",
    "\n",
    "        dist           = similarity_function(sequential_features, sequential_features[[idx]], \n",
    "                                             trackbased_features, trackbased_features[[idx]])\n",
    "        \n",
    "        dist           = np.array(dist).reshape(len(dist))\n",
    "        \n",
    "        similar_tracks = metadata.loc[np.argsort(dist)[::-1][:cut_off]]\n",
    "        same_label     = similar_tracks[\"playlist\"] == metadata.loc[idx, \"playlist\"]\n",
    "        precision      = same_label.sum() / float(cut_off)\n",
    "        all_precisions.append(precision)\n",
    "\n",
    "    all_precisions = np.array(all_precisions)\n",
    "\n",
    "    return all_precisions.mean()"
   ]
  },
  {
   "cell_type": "code",
   "execution_count": null,
   "metadata": {},
   "outputs": [],
   "source": [
    "evaluate(lambda w,x,y,z: [model.predict([w[[i]],x,y[[i]],z]) for i in range(sequential_features.shape[0])], 20)"
   ]
  },
  {
   "cell_type": "markdown",
   "metadata": {},
   "source": [
    "# Conclusions\n",
    "\n",
    "In this part of the tutorial I have demonstrated how to use neural networks to train a similarity function. First the model trained on the same aggregated features as used in part one of this tutorial. A huge improvement in performance could be noticed. Further, it was demonstrated how to harness temporal relationships by training LSTMs on the sequential data provided by Spotify.\n",
    "\n",
    "In the next part of this tutorial series I will demonstrate how to use the so far disregarded genre labels provided by Spotify. I will show how to apply tag-similarity metrics to automatically create the similarity lookup table for the ground-truth. This facilitates more precise input-pairs for the model to train on."
   ]
  }
 ],
 "metadata": {
  "kernelspec": {
   "display_name": "siamese",
   "language": "python",
   "name": "siamese"
  },
  "language_info": {
   "codemirror_mode": {
    "name": "ipython",
    "version": 3
   },
   "file_extension": ".py",
   "mimetype": "text/x-python",
   "name": "python",
   "nbconvert_exporter": "python",
   "pygments_lexer": "ipython3",
   "version": "3.6.6"
  },
  "notify_time": "5",
  "toc": {
   "toc_cell": false,
   "toc_number_sections": true,
   "toc_threshold": 6,
   "toc_window_display": false
  }
 },
 "nbformat": 4,
 "nbformat_minor": 2
}
